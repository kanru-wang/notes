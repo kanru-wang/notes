{
 "cells": [
  {
   "cell_type": "markdown",
   "metadata": {},
   "source": [
    "In below,\n",
    "\n",
    "Linked list"
   ]
  },
  {
   "cell_type": "code",
   "execution_count": 1,
   "metadata": {},
   "outputs": [],
   "source": [
    "class ListNode:\n",
    "    def __init__(self, val=0, next=None):\n",
    "        self.val = val\n",
    "        self.next = next"
   ]
  },
  {
   "cell_type": "markdown",
   "metadata": {},
   "source": [
    "A function to convert a normal list to a linked list"
   ]
  },
  {
   "cell_type": "code",
   "execution_count": 2,
   "metadata": {},
   "outputs": [],
   "source": [
    "def lst2link(lst):\n",
    "    cur = dummy = ListNode(0)\n",
    "    for e in lst:\n",
    "        cur.next = ListNode(e)\n",
    "        cur = cur.next\n",
    "    return dummy.next"
   ]
  },
  {
   "cell_type": "code",
   "execution_count": 3,
   "metadata": {},
   "outputs": [],
   "source": [
    "list1 = [1,3,5,7,9]\n",
    "list2 = [2,4,6,8,10]\n",
    "\n",
    "l1 = lst2link(list1)\n",
    "l2 = lst2link(list2)"
   ]
  },
  {
   "cell_type": "markdown",
   "metadata": {},
   "source": [
    "Merge Two Sorted Linked Lists, iteratively "
   ]
  },
  {
   "cell_type": "code",
   "execution_count": 4,
   "metadata": {},
   "outputs": [],
   "source": [
    "def mergeTwoLists1(l1, l2):\n",
    "    dummy = cur = ListNode(0)\n",
    "    while l1 and l2:\n",
    "        print(\"l1.val:\", l1.val)\n",
    "        print(\"l2.val:\", l2.val)\n",
    "        if l1.val < l2.val:\n",
    "            cur.next = l1\n",
    "            l1 = l1.next\n",
    "        else:\n",
    "            cur.next = l2\n",
    "            l2 = l2.next\n",
    "        cur = cur.next\n",
    "        print(\"cur.val:\", cur.val)\n",
    "    print(\"l1.val:\", \"is none\" if l1 is None else l1.val)\n",
    "    print(\"l2.val:\", \"is none\" if l2 is None else l2.val) \n",
    "    cur.next = l1 or l2\n",
    "    return dummy.next"
   ]
  },
  {
   "cell_type": "code",
   "execution_count": 5,
   "metadata": {},
   "outputs": [
    {
     "name": "stdout",
     "output_type": "stream",
     "text": [
      "l1.val: 1\n",
      "l2.val: 2\n",
      "cur.val: 1\n",
      "l1.val: 3\n",
      "l2.val: 2\n",
      "cur.val: 2\n",
      "l1.val: 3\n",
      "l2.val: 4\n",
      "cur.val: 3\n",
      "l1.val: 5\n",
      "l2.val: 4\n",
      "cur.val: 4\n",
      "l1.val: 5\n",
      "l2.val: 6\n",
      "cur.val: 5\n",
      "l1.val: 7\n",
      "l2.val: 6\n",
      "cur.val: 6\n",
      "l1.val: 7\n",
      "l2.val: 8\n",
      "cur.val: 7\n",
      "l1.val: 9\n",
      "l2.val: 8\n",
      "cur.val: 8\n",
      "l1.val: 9\n",
      "l2.val: 10\n",
      "cur.val: 9\n",
      "l1.val: is none\n",
      "l2.val: 10\n"
     ]
    }
   ],
   "source": [
    "sorted_list = mergeTwoLists1(l1, l2)"
   ]
  },
  {
   "cell_type": "code",
   "execution_count": 6,
   "metadata": {},
   "outputs": [
    {
     "name": "stdout",
     "output_type": "stream",
     "text": [
      "1\n",
      "2\n",
      "3\n",
      "4\n",
      "5\n",
      "6\n",
      "7\n",
      "8\n",
      "9\n",
      "10\n"
     ]
    }
   ],
   "source": [
    "while sorted_list:\n",
    "    print(sorted_list.val)\n",
    "    sorted_list = sorted_list.next"
   ]
  },
  {
   "cell_type": "markdown",
   "metadata": {},
   "source": [
    "Merge Two Sorted Linked Lists, recursively"
   ]
  },
  {
   "cell_type": "code",
   "execution_count": 7,
   "metadata": {},
   "outputs": [],
   "source": [
    "l1 = lst2link(list1)\n",
    "l2 = lst2link(list2)"
   ]
  },
  {
   "cell_type": "code",
   "execution_count": 8,
   "metadata": {},
   "outputs": [],
   "source": [
    "def mergeTwoLists2(l1, l2):\n",
    "    if not l1 or not l2:\n",
    "        print(\"l1.val:\", \"is none\" if l1 is None else l1.val)\n",
    "        print(\"l2.val:\", \"is none\" if l2 is None else l2.val) \n",
    "        return l1 or l2\n",
    "    if l1.val < l2.val:\n",
    "        l1.next = mergeTwoLists2(l1.next, l2)\n",
    "        print(\"l1.val:\", l1.val)\n",
    "        return l1\n",
    "    else:\n",
    "        l2.next = mergeTwoLists2(l1, l2.next)\n",
    "        print(\"l2.val:\", l2.val)\n",
    "        return l2"
   ]
  },
  {
   "cell_type": "code",
   "execution_count": 9,
   "metadata": {},
   "outputs": [
    {
     "name": "stdout",
     "output_type": "stream",
     "text": [
      "l1.val: is none\n",
      "l2.val: 10\n",
      "l1.val: 9\n",
      "l2.val: 8\n",
      "l1.val: 7\n",
      "l2.val: 6\n",
      "l1.val: 5\n",
      "l2.val: 4\n",
      "l1.val: 3\n",
      "l2.val: 2\n",
      "l1.val: 1\n"
     ]
    }
   ],
   "source": [
    "sorted_list = mergeTwoLists2(l1, l2)"
   ]
  },
  {
   "cell_type": "code",
   "execution_count": 10,
   "metadata": {},
   "outputs": [
    {
     "name": "stdout",
     "output_type": "stream",
     "text": [
      "1\n",
      "2\n",
      "3\n",
      "4\n",
      "5\n",
      "6\n",
      "7\n",
      "8\n",
      "9\n",
      "10\n"
     ]
    }
   ],
   "source": [
    "while sorted_list:\n",
    "    print(sorted_list.val)\n",
    "    sorted_list = sorted_list.next"
   ]
  },
  {
   "cell_type": "markdown",
   "metadata": {},
   "source": [
    "<br>\n",
    "<br>\n",
    "\n",
    "In below,\n",
    "\n",
    "inverse a string"
   ]
  },
  {
   "cell_type": "code",
   "execution_count": 1,
   "metadata": {},
   "outputs": [
    {
     "data": {
      "text/plain": [
       "'e d c b a'"
      ]
     },
     "execution_count": 1,
     "metadata": {},
     "output_type": "execute_result"
    }
   ],
   "source": [
    "s = \"a b c d e\"\n",
    "s[::-1]"
   ]
  },
  {
   "cell_type": "markdown",
   "metadata": {},
   "source": [
    "<br>\n",
    "<br>\n",
    "\n",
    "In below,\n",
    "\n",
    "`collections.Counter` helps building a dict"
   ]
  },
  {
   "cell_type": "code",
   "execution_count": 1,
   "metadata": {},
   "outputs": [
    {
     "data": {
      "text/plain": [
       "Counter({'a': 2, 'b': 1, 'c': 3})"
      ]
     },
     "execution_count": 1,
     "metadata": {},
     "output_type": "execute_result"
    }
   ],
   "source": [
    "import collections\n",
    "collections.Counter([\"a\",\"a\",\"b\",\"c\",\"c\",\"c\"])"
   ]
  },
  {
   "cell_type": "markdown",
   "metadata": {},
   "source": [
    "<br>\n",
    "<br>\n",
    "\n",
    "In below,\n",
    "\n",
    "Use `some_dict.get(\"some_key\", \"some_default_value\")` to provide default values when key doesn't exist"
   ]
  },
  {
   "cell_type": "code",
   "execution_count": 1,
   "metadata": {},
   "outputs": [
    {
     "data": {
      "text/plain": [
       "{'a': 1}"
      ]
     },
     "execution_count": 1,
     "metadata": {},
     "output_type": "execute_result"
    }
   ],
   "source": [
    "some_dict = {}\n",
    "some_dict[\"a\"] = some_dict.get(\"a\", 0) + 1\n",
    "some_dict"
   ]
  },
  {
   "cell_type": "code",
   "execution_count": null,
   "metadata": {},
   "outputs": [],
   "source": []
  }
 ],
 "metadata": {
  "kernelspec": {
   "display_name": "Python 3",
   "language": "python",
   "name": "python3"
  },
  "language_info": {
   "codemirror_mode": {
    "name": "ipython",
    "version": 3
   },
   "file_extension": ".py",
   "mimetype": "text/x-python",
   "name": "python",
   "nbconvert_exporter": "python",
   "pygments_lexer": "ipython3",
   "version": "3.7.4"
  }
 },
 "nbformat": 4,
 "nbformat_minor": 2
}
