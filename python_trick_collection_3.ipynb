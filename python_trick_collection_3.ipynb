{
 "cells": [
  {
   "cell_type": "markdown",
   "metadata": {},
   "source": [
    "In below,\n",
    "\n",
    "how does a class passes entire Kwargs to a function"
   ]
  },
  {
   "cell_type": "code",
   "execution_count": 1,
   "metadata": {},
   "outputs": [],
   "source": [
    "class PassingEntireKwargsToFunctions:\n",
    "    def __init__(self, aaa, bbb=None, ccc=None, **kwargs):\n",
    "        self.aaa = aaa\n",
    "        self.bbb = bbb\n",
    "        self.ccc = ccc\n",
    "        self.kwargs = kwargs\n",
    "        print(self.kwargs)\n",
    "\n",
    "    def do_something(self):\n",
    "        print_all(self.aaa, **self.kwargs)\n",
    "\n",
    "def print_all(aaa, **kwargs):\n",
    "    print(aaa)\n",
    "    print(kwargs.items())"
   ]
  },
  {
   "cell_type": "code",
   "execution_count": 2,
   "metadata": {},
   "outputs": [
    {
     "name": "stdout",
     "output_type": "stream",
     "text": [
      "{}\n"
     ]
    }
   ],
   "source": [
    "test = PassingEntireKwargsToFunctions(\"aaa\", bbb=\"bbb\", ccc=\"ccc\")"
   ]
  },
  {
   "cell_type": "code",
   "execution_count": 3,
   "metadata": {},
   "outputs": [
    {
     "name": "stdout",
     "output_type": "stream",
     "text": [
      "aaa\n",
      "dict_items([])\n"
     ]
    }
   ],
   "source": [
    "test.do_something()"
   ]
  },
  {
   "cell_type": "code",
   "execution_count": 4,
   "metadata": {},
   "outputs": [
    {
     "name": "stdout",
     "output_type": "stream",
     "text": [
      "{'ddd': 'ddd', 'eee': 'eee'}\n"
     ]
    }
   ],
   "source": [
    "test = PassingEntireKwargsToFunctions(\"aaa\", bbb=\"bbb\", ccc=\"ccc\", ddd=\"ddd\", eee=\"eee\")"
   ]
  },
  {
   "cell_type": "code",
   "execution_count": 5,
   "metadata": {},
   "outputs": [
    {
     "name": "stdout",
     "output_type": "stream",
     "text": [
      "aaa\n",
      "dict_items([('ddd', 'ddd'), ('eee', 'eee')])\n"
     ]
    }
   ],
   "source": [
    "test.do_something()"
   ]
  }
 ],
 "metadata": {
  "kernelspec": {
   "display_name": "Python 3",
   "language": "python",
   "name": "python3"
  },
  "language_info": {
   "codemirror_mode": {
    "name": "ipython",
    "version": 3
   },
   "file_extension": ".py",
   "mimetype": "text/x-python",
   "name": "python",
   "nbconvert_exporter": "python",
   "pygments_lexer": "ipython3",
   "version": "3.7.4"
  }
 },
 "nbformat": 4,
 "nbformat_minor": 2
}
