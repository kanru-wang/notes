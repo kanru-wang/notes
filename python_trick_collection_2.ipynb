{
 "cells": [
  {
   "cell_type": "markdown",
   "metadata": {},
   "source": [
    "In below,\n",
    "\n",
    "Parallel processing\n",
    "\n",
    "1. multiprocessing"
   ]
  },
  {
   "cell_type": "code",
   "execution_count": null,
   "metadata": {},
   "outputs": [],
   "source": [
    "from multiprocessing import Pool, cpu_count\n",
    "\n",
    "def main_multiprocessing_func(func, list_of_things_to_be_processed, num_processes=None):\n",
    "    \n",
    "    # If num_processes is not specified, default to minimum(#things_to_be_processed, #machine-cores)\n",
    "    if num_processes==None:\n",
    "        num_processes = min(len(list_of_things_to_be_processed), cpu_count())\n",
    "    \n",
    "    # 'with' context manager takes care of pool.close() and pool.join() for us\n",
    "    with Pool(num_processes) as pool:\n",
    "        \n",
    "        # we need a list to be passed to pool.map\n",
    "        # pool.map returns results as a list\n",
    "        results_list = pool.map(func, list_of_things_to_be_processed)\n",
    "        \n",
    "        # return list of processed columns, concatenated together as a new dataframe\n",
    "        return pd.concat(results_list)"
   ]
  },
  {
   "cell_type": "markdown",
   "metadata": {},
   "source": [
    "2. joblib\n",
    "\n",
    "    See examples here: https://joblib.readthedocs.io/en/latest/generated/joblib.Parallel.html"
   ]
  },
  {
   "cell_type": "code",
   "execution_count": null,
   "metadata": {},
   "outputs": [],
   "source": []
  }
 ],
 "metadata": {
  "kernelspec": {
   "display_name": "Python 3",
   "language": "python",
   "name": "python3"
  },
  "language_info": {
   "codemirror_mode": {
    "name": "ipython",
    "version": 3
   },
   "file_extension": ".py",
   "mimetype": "text/x-python",
   "name": "python",
   "nbconvert_exporter": "python",
   "pygments_lexer": "ipython3",
   "version": "3.7.4"
  }
 },
 "nbformat": 4,
 "nbformat_minor": 2
}
