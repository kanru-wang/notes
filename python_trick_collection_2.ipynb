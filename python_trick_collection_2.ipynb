{
 "cells": [
  {
   "cell_type": "markdown",
   "metadata": {},
   "source": [
    "In below,\n",
    "\n",
    "Parallel processing\n",
    "\n",
    "1. multiprocessing"
   ]
  },
  {
   "cell_type": "code",
   "execution_count": null,
   "metadata": {},
   "outputs": [],
   "source": [
    "from multiprocessing import Pool, cpu_count\n",
    "\n",
    "def main_multiprocessing_func(func, list_of_things_to_be_processed, num_processes=None):\n",
    "    \n",
    "    # If num_processes is not specified, default to minimum(#things_to_be_processed, #machine-cores)\n",
    "    if num_processes==None:\n",
    "        num_processes = min(len(list_of_things_to_be_processed), cpu_count())\n",
    "    \n",
    "    # 'with' context manager takes care of pool.close() and pool.join() for us\n",
    "    with Pool(num_processes) as pool:\n",
    "        \n",
    "        # we need a list to be passed to pool.map\n",
    "        # pool.map returns results as a list\n",
    "        results_list = pool.map(func, list_of_things_to_be_processed)\n",
    "        \n",
    "        # return list of processed columns, concatenated together as a new dataframe\n",
    "        return pd.concat(results_list)"
   ]
  },
  {
   "cell_type": "markdown",
   "metadata": {},
   "source": [
    "2. joblib\n",
    "\n",
    "    See examples here: https://joblib.readthedocs.io/en/latest/generated/joblib.Parallel.html"
   ]
  },
  {
   "cell_type": "code",
   "execution_count": null,
   "metadata": {},
   "outputs": [],
   "source": [
    "from math import sqrt\n",
    "from joblib import Parallel, delayed\n",
    "Parallel(n_jobs=1)(delayed(sqrt)(i**2) for i in range(10))"
   ]
  },
  {
   "cell_type": "markdown",
   "metadata": {},
   "source": [
    "3. Dask\n",
    "\n",
    "    For manipulating large datasets, when those datasets don’t fit in memory\n",
    "    \n",
    "    For accelerating long computations by using many cores\n",
    "    \n",
    "    See examples here: https://docs.dask.org/en/latest/index.html and https://docs.dask.org/en/latest/dataframe.html\n"
   ]
  },
  {
   "cell_type": "markdown",
   "metadata": {},
   "source": [
    "<br>\n",
    "<br>\n",
    "\n",
    "In below,\n",
    "\n",
    "If a dataframe's column names are `[\"s_apple\", \"s_banana\", \"s_orange\"]`, and want to change them to `[\"apple\", \"banana\", \"orange\"]`"
   ]
  },
  {
   "cell_type": "code",
   "execution_count": null,
   "metadata": {},
   "outputs": [],
   "source": [
    "df.rename(columns=lambda x: int(x[2:]), inplace=True)"
   ]
  },
  {
   "cell_type": "markdown",
   "metadata": {},
   "source": [
    "<br>\n",
    "<br>\n",
    "\n",
    "In below,\n",
    "\n",
    "SQL sampling"
   ]
  },
  {
   "cell_type": "code",
   "execution_count": null,
   "metadata": {},
   "outputs": [],
   "source": [
    "...order by random() limit 10000"
   ]
  },
  {
   "cell_type": "markdown",
   "metadata": {},
   "source": [
    "In the SQL below,\n",
    "\n",
    "1. md5 is hashing\n",
    "2. || is the String Concatenation Operator"
   ]
  },
  {
   "cell_type": "code",
   "execution_count": null,
   "metadata": {},
   "outputs": [],
   "source": [
    "seed = 42\n",
    "md5({seed} || customer_id) as random_customer_id"
   ]
  },
  {
   "cell_type": "markdown",
   "metadata": {},
   "source": [
    "The usage of SQL,\n",
    "\n",
    "`COALESCE` returns the first non-null value in a list.\n",
    "\n",
    "`NULLIF` returns NULL if two expressions are equal, otherwise it returns the first expression.\n",
    "\n",
    "`group by 1, 2, 3` groups by output columns (position 1, 2, 3)"
   ]
  },
  {
   "cell_type": "markdown",
   "metadata": {},
   "source": [
    "<br>\n",
    "<br>\n",
    "\n",
    "In below,\n",
    "\n",
    "turn values into ranks"
   ]
  },
  {
   "cell_type": "code",
   "execution_count": 10,
   "metadata": {},
   "outputs": [
    {
     "data": {
      "text/html": [
       "<div>\n",
       "<style scoped>\n",
       "    .dataframe tbody tr th:only-of-type {\n",
       "        vertical-align: middle;\n",
       "    }\n",
       "\n",
       "    .dataframe tbody tr th {\n",
       "        vertical-align: top;\n",
       "    }\n",
       "\n",
       "    .dataframe thead th {\n",
       "        text-align: right;\n",
       "    }\n",
       "</style>\n",
       "<table border=\"1\" class=\"dataframe\">\n",
       "  <thead>\n",
       "    <tr style=\"text-align: right;\">\n",
       "      <th></th>\n",
       "      <th>apple</th>\n",
       "      <th>banana</th>\n",
       "      <th>pear</th>\n",
       "      <th>orange</th>\n",
       "    </tr>\n",
       "  </thead>\n",
       "  <tbody>\n",
       "    <tr>\n",
       "      <td>0</td>\n",
       "      <td>0.301489</td>\n",
       "      <td>0.983080</td>\n",
       "      <td>0.437496</td>\n",
       "      <td>0.911782</td>\n",
       "    </tr>\n",
       "    <tr>\n",
       "      <td>1</td>\n",
       "      <td>0.663863</td>\n",
       "      <td>0.278423</td>\n",
       "      <td>0.194561</td>\n",
       "      <td>0.809135</td>\n",
       "    </tr>\n",
       "    <tr>\n",
       "      <td>2</td>\n",
       "      <td>0.003051</td>\n",
       "      <td>0.654187</td>\n",
       "      <td>0.012320</td>\n",
       "      <td>0.080039</td>\n",
       "    </tr>\n",
       "    <tr>\n",
       "      <td>3</td>\n",
       "      <td>0.962843</td>\n",
       "      <td>0.251235</td>\n",
       "      <td>0.021869</td>\n",
       "      <td>0.892796</td>\n",
       "    </tr>\n",
       "    <tr>\n",
       "      <td>4</td>\n",
       "      <td>0.014760</td>\n",
       "      <td>0.087860</td>\n",
       "      <td>0.113315</td>\n",
       "      <td>0.207766</td>\n",
       "    </tr>\n",
       "    <tr>\n",
       "      <td>5</td>\n",
       "      <td>0.585164</td>\n",
       "      <td>0.620740</td>\n",
       "      <td>0.466001</td>\n",
       "      <td>0.954973</td>\n",
       "    </tr>\n",
       "  </tbody>\n",
       "</table>\n",
       "</div>"
      ],
      "text/plain": [
       "      apple    banana      pear    orange\n",
       "0  0.301489  0.983080  0.437496  0.911782\n",
       "1  0.663863  0.278423  0.194561  0.809135\n",
       "2  0.003051  0.654187  0.012320  0.080039\n",
       "3  0.962843  0.251235  0.021869  0.892796\n",
       "4  0.014760  0.087860  0.113315  0.207766\n",
       "5  0.585164  0.620740  0.466001  0.954973"
      ]
     },
     "execution_count": 10,
     "metadata": {},
     "output_type": "execute_result"
    }
   ],
   "source": [
    "col_names =[\"apple\", \"banana\", \"pear\", \"orange\"]\n",
    "data = pd.DataFrame(np.random.rand(6, 4), columns=col_names)\n",
    "data"
   ]
  },
  {
   "cell_type": "code",
   "execution_count": 12,
   "metadata": {},
   "outputs": [
    {
     "data": {
      "text/plain": [
       "array([[0., 3., 1., 2.],\n",
       "       [2., 1., 0., 3.],\n",
       "       [0., 3., 1., 2.],\n",
       "       [3., 1., 0., 2.],\n",
       "       [0., 1., 2., 3.],\n",
       "       [1., 2., 0., 3.]])"
      ]
     },
     "execution_count": 12,
     "metadata": {},
     "output_type": "execute_result"
    }
   ],
   "source": [
    "rank = np.empty((len(data), len(col_names)))\n",
    "o = data[col_names].values.argsort(1)\n",
    "rank[np.arange(len(data))[:, None], o] = np.arange(len(col_names))[None]\n",
    "rank"
   ]
  },
  {
   "cell_type": "markdown",
   "metadata": {},
   "source": [
    "<br>\n",
    "<br>\n",
    "\n",
    "In below,\n",
    "\n",
    "use double `argsort()` to convert numbers into rank"
   ]
  },
  {
   "cell_type": "code",
   "execution_count": 1,
   "metadata": {},
   "outputs": [
    {
     "data": {
      "text/plain": [
       "array([1, 2, 0])"
      ]
     },
     "execution_count": 1,
     "metadata": {},
     "output_type": "execute_result"
    }
   ],
   "source": [
    "import numpy as np\n",
    "x = np.array([0.3, 0.1, 0.2])\n",
    "\n",
    "# Default is axis=-1 (the last axis)\n",
    "x.argsort(axis=-1)"
   ]
  },
  {
   "cell_type": "code",
   "execution_count": 2,
   "metadata": {},
   "outputs": [
    {
     "data": {
      "text/plain": [
       "array([2, 0, 1])"
      ]
     },
     "execution_count": 2,
     "metadata": {},
     "output_type": "execute_result"
    }
   ],
   "source": [
    "x.argsort(axis=-1).argsort(axis=-1)"
   ]
  },
  {
   "cell_type": "markdown",
   "metadata": {},
   "source": [
    "One more `argsort` would inverse it back"
   ]
  },
  {
   "cell_type": "code",
   "execution_count": 3,
   "metadata": {},
   "outputs": [
    {
     "data": {
      "text/plain": [
       "array([1, 2, 0])"
      ]
     },
     "execution_count": 3,
     "metadata": {},
     "output_type": "execute_result"
    }
   ],
   "source": [
    "x.argsort(axis=-1).argsort(axis=-1).argsort(axis=-1)"
   ]
  },
  {
   "cell_type": "code",
   "execution_count": 4,
   "metadata": {},
   "outputs": [
    {
     "data": {
      "text/plain": [
       "array([[[2, 0, 1],\n",
       "        [0, 2, 1]],\n",
       "\n",
       "       [[1, 2, 0],\n",
       "        [0, 2, 1]],\n",
       "\n",
       "       [[2, 0, 1],\n",
       "        [2, 0, 1]],\n",
       "\n",
       "       [[1, 2, 0],\n",
       "        [0, 1, 2]]])"
      ]
     },
     "execution_count": 4,
     "metadata": {},
     "output_type": "execute_result"
    }
   ],
   "source": [
    "x = np.array([\n",
    "    [\n",
    "        [0.3, 0.1, 0.2],\n",
    "        [0.2, 0.7, 0.3]\n",
    "    ],\n",
    "    [\n",
    "        [0.5, 0.7, 0.2],\n",
    "        [0.2, 0.8, 0.3]\n",
    "    ],\n",
    "    [\n",
    "        [0.6, 0.5, 0.5],\n",
    "        [0.8, 0.4, 0.6]\n",
    "    ],\n",
    "    [\n",
    "        [0.4, 0.5, 0.2],\n",
    "        [0.1, 0.2, 0.6]\n",
    "    ]\n",
    "])\n",
    "\n",
    "x.argsort(axis=-1).argsort(axis=-1)"
   ]
  },
  {
   "cell_type": "markdown",
   "metadata": {},
   "source": [
    "Different direction"
   ]
  },
  {
   "cell_type": "code",
   "execution_count": 5,
   "metadata": {},
   "outputs": [
    {
     "data": {
      "text/plain": [
       "array([[[1, 0, 0],\n",
       "        [0, 1, 1]],\n",
       "\n",
       "       [[1, 0, 0],\n",
       "        [0, 1, 1]],\n",
       "\n",
       "       [[0, 1, 0],\n",
       "        [1, 0, 1]],\n",
       "\n",
       "       [[1, 1, 0],\n",
       "        [0, 0, 1]]])"
      ]
     },
     "execution_count": 5,
     "metadata": {},
     "output_type": "execute_result"
    }
   ],
   "source": [
    "x.argsort(axis=1).argsort(axis=1)"
   ]
  },
  {
   "cell_type": "markdown",
   "metadata": {},
   "source": [
    "<br>\n",
    "<br>\n",
    "\n",
    "In below,\n",
    "\n",
    "a good way to insert a break in a for-loop or a big function; press Enter to resume"
   ]
  },
  {
   "cell_type": "code",
   "execution_count": null,
   "metadata": {},
   "outputs": [],
   "source": [
    "input()"
   ]
  },
  {
   "cell_type": "markdown",
   "metadata": {},
   "source": [
    "<br>\n",
    "<br>\n",
    "\n",
    "In below,\n",
    "\n",
    "empty dictionary or list is a dangerous default value in Python"
   ]
  },
  {
   "cell_type": "code",
   "execution_count": 1,
   "metadata": {},
   "outputs": [
    {
     "name": "stdout",
     "output_type": "stream",
     "text": [
      "{'a': 1}\n",
      "{'a': 1, 'b': 2}\n"
     ]
    }
   ],
   "source": [
    "def f(value, key, hash={}):\n",
    "    hash[value] = key\n",
    "    return hash\n",
    "\n",
    "print(f('a', 1))\n",
    "print(f('b', 2))"
   ]
  },
  {
   "cell_type": "markdown",
   "metadata": {},
   "source": [
    "<br>\n",
    "<br>\n",
    "\n",
    "In below,\n",
    "\n",
    "`locals()` inside of a function will return a dict of local variables"
   ]
  },
  {
   "cell_type": "code",
   "execution_count": 1,
   "metadata": {},
   "outputs": [
    {
     "name": "stdout",
     "output_type": "stream",
     "text": [
      "localsNotPresent: {}\n",
      "localsPresent: {'present': True}\n"
     ]
    }
   ],
   "source": [
    "def localsNotPresent():\n",
    "    return locals()\n",
    "\n",
    "def localsPresent():\n",
    "    present = True\n",
    "    return locals()\n",
    "\n",
    "print('localsNotPresent:', localsNotPresent())\n",
    "print('localsPresent:', localsPresent())"
   ]
  },
  {
   "cell_type": "code",
   "execution_count": null,
   "metadata": {},
   "outputs": [],
   "source": []
  }
 ],
 "metadata": {
  "kernelspec": {
   "display_name": "Python 3",
   "language": "python",
   "name": "python3"
  },
  "language_info": {
   "codemirror_mode": {
    "name": "ipython",
    "version": 3
   },
   "file_extension": ".py",
   "mimetype": "text/x-python",
   "name": "python",
   "nbconvert_exporter": "python",
   "pygments_lexer": "ipython3",
   "version": "3.7.4"
  }
 },
 "nbformat": 4,
 "nbformat_minor": 2
}
