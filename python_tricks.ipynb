{
 "cells": [
  {
   "cell_type": "markdown",
   "metadata": {},
   "source": [
    "- nbextensions has many useful tools, e.g. Table of Contents, Autopep8\n",
    "\n",
    "https://jupyter-contrib-nbextensions.readthedocs.io/en/latest/install.html"
   ]
  },
  {
   "cell_type": "markdown",
   "metadata": {},
   "source": [
    "- View → Cell Toolbar → Slideshow to prepare slides in Jupyter notebook"
   ]
  },
  {
   "cell_type": "markdown",
   "metadata": {},
   "source": [
    "<br>\n",
    "\n",
    "In below,\n",
    "- pytest fixture setup and teardown common resources\n",
    "- pytest mark.parametrize allow each of the value in the list passed to the unit test once, and get tested."
   ]
  },
  {
   "cell_type": "code",
   "execution_count": null,
   "metadata": {},
   "outputs": [],
   "source": [
    "import module_1\n",
    "\n",
    "@pytest.fixture\n",
    "def commonly_used_object():\n",
    "    return module_1.func_1()\n",
    "\n",
    "@pytest.mark.parametrize('col', ['col_1', 'col_2', 'col_3'])    \n",
    "def test_function_1(commonly_used_object, col):\n",
    "    df = commonly_used_object._generate_df()\n",
    "    assert (col in df.columns)"
   ]
  }
 ],
 "metadata": {
  "kernelspec": {
   "display_name": "Python 3",
   "language": "python",
   "name": "python3"
  },
  "language_info": {
   "codemirror_mode": {
    "name": "ipython",
    "version": 3
   },
   "file_extension": ".py",
   "mimetype": "text/x-python",
   "name": "python",
   "nbconvert_exporter": "python",
   "pygments_lexer": "ipython3",
   "version": "3.7.4"
  }
 },
 "nbformat": 4,
 "nbformat_minor": 2
}
