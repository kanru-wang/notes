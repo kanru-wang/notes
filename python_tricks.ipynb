{
 "cells": [
  {
   "cell_type": "markdown",
   "metadata": {},
   "source": [
    "- nbextensions has many useful tools, e.g. Table of Contents, Autopep8\n",
    "\n",
    "https://jupyter-contrib-nbextensions.readthedocs.io/en/latest/install.html"
   ]
  },
  {
   "cell_type": "markdown",
   "metadata": {},
   "source": [
    "<br>\n",
    "\n",
    "- View → Cell Toolbar → Slideshow to prepare slides in Jupyter notebook"
   ]
  },
  {
   "cell_type": "markdown",
   "metadata": {},
   "source": [
    "<br>\n",
    "\n",
    "In below,\n",
    "- pytest fixture setup and teardown common resources\n",
    "- pytest mark.parametrize allow each of the value in the list passed to the unit test once, and get tested."
   ]
  },
  {
   "cell_type": "code",
   "execution_count": null,
   "metadata": {},
   "outputs": [],
   "source": [
    "import module_1\n",
    "\n",
    "@pytest.fixture\n",
    "def commonly_used_object():\n",
    "    return module_1.func_1()\n",
    "\n",
    "@pytest.mark.parametrize('col', ['col_1', 'col_2', 'col_3'])    \n",
    "def test_function_1(commonly_used_object, col):\n",
    "    df = commonly_used_object._generate_df()\n",
    "    assert (col in df.columns)"
   ]
  },
  {
   "cell_type": "markdown",
   "metadata": {},
   "source": [
    "<br>\n",
    "\n",
    "In below,\n",
    "- Single asterisk is for unnamed arguments, e.g. list\n",
    "- Double asterisk is for named, keyword arguments, e.g. dict"
   ]
  },
  {
   "cell_type": "code",
   "execution_count": 13,
   "metadata": {},
   "outputs": [
    {
     "name": "stdout",
     "output_type": "stream",
     "text": [
      "1\n",
      "2\n",
      "3\n",
      "6\n",
      "Name aaa has a number of 1.\n",
      "Name bbb has a number of 2.\n",
      "Name ccc has a number of 3.\n"
     ]
    }
   ],
   "source": [
    "def func_1(*args):\n",
    "    for number in args:\n",
    "        print(number)\n",
    "\n",
    "func_1(1, 2, 3)\n",
    "\n",
    "def func_2(**kwargs):\n",
    "    print(sum(kwargs.values()))\n",
    "    for name, number in kwargs.items():\n",
    "        print(\"Name {} has a number of {}.\".format(name, number))\n",
    "\n",
    "func_2(aaa = 1, bbb = 2, ccc = 3)"
   ]
  },
  {
   "cell_type": "markdown",
   "metadata": {},
   "source": [
    "<br>\n",
    "<br>\n",
    "\n",
    "In below, \n",
    "\n",
    "Decorator, from https://www.python-course.eu/python3_decorators.php"
   ]
  },
  {
   "cell_type": "code",
   "execution_count": 27,
   "metadata": {},
   "outputs": [
    {
     "name": "stdout",
     "output_type": "stream",
     "text": [
      "Before calling foo\n",
      "Hi, foo has been called with Hi\n",
      "After calling foo\n"
     ]
    }
   ],
   "source": [
    "def our_decorator(func):\n",
    "    def function_wrapper(x):\n",
    "        print(\"Before calling \" + func.__name__)\n",
    "        func(x)\n",
    "        print(\"After calling \" + func.__name__)\n",
    "    return function_wrapper\n",
    "\n",
    "@our_decorator\n",
    "def foo(y):\n",
    "    print(\"Hi, foo has been called with \" + str(y))\n",
    "\n",
    "# The @our_decorator is equivalent to\n",
    "# foo = our_decorator(foo)\n",
    "# The argument of foo() will be passed to function_wrapper()\n",
    "foo(\"Hi\")"
   ]
  },
  {
   "cell_type": "markdown",
   "metadata": {},
   "source": [
    "Can decorate more functions"
   ]
  },
  {
   "cell_type": "code",
   "execution_count": 26,
   "metadata": {},
   "outputs": [
    {
     "name": "stdout",
     "output_type": "stream",
     "text": [
      "Before calling succ\n",
      "11\n",
      "After calling succ\n"
     ]
    }
   ],
   "source": [
    "@our_decorator\n",
    "def succ(n):\n",
    "    print(n + 1)\n",
    "\n",
    "succ(10)"
   ]
  },
  {
   "cell_type": "markdown",
   "metadata": {},
   "source": [
    "Decorators with Parameters... Need to wrap another function around our previous decorator function."
   ]
  },
  {
   "cell_type": "code",
   "execution_count": 35,
   "metadata": {},
   "outputs": [
    {
     "name": "stdout",
     "output_type": "stream",
     "text": [
      "Good evening, foo returns:\n",
      "Adam, time to eat foo.\n",
      "Good morning, bar returns:\n",
      "Alex, time to eat bar.\n"
     ]
    }
   ],
   "source": [
    "def greeting(expr):\n",
    "    def greeting_decorator(func):\n",
    "        def function_wrapper(x):\n",
    "            print(expr + \", \" + func.__name__ + \" returns:\")\n",
    "            func(x)\n",
    "        return function_wrapper\n",
    "    return greeting_decorator\n",
    "\n",
    "@greeting(\"Good evening\")\n",
    "def foo(x):\n",
    "    print(x + \", time to eat foo.\")\n",
    "\n",
    "@greeting(\"Good morning\")\n",
    "def bar(x):\n",
    "    print(x + \", time to eat bar.\")\n",
    "    \n",
    "foo(\"Adam\")\n",
    "bar(\"Alex\")"
   ]
  },
  {
   "cell_type": "markdown",
   "metadata": {},
   "source": [
    "<br>\n",
    "\n",
    "In below,\n",
    "\n",
    "setting up database easily"
   ]
  },
  {
   "cell_type": "code",
   "execution_count": null,
   "metadata": {},
   "outputs": [],
   "source": [
    "import pandas as pd\n",
    "import sqlite3\n",
    "\n",
    "conn = sqlite3.connect(\"../data/test.db\")\n",
    "\n",
    "test_df.to_sql(\"test_table\", con=conn, if_exists=\"replace\", index=False)"
   ]
  },
  {
   "cell_type": "code",
   "execution_count": null,
   "metadata": {},
   "outputs": [],
   "source": []
  }
 ],
 "metadata": {
  "kernelspec": {
   "display_name": "Python 3",
   "language": "python",
   "name": "python3"
  },
  "language_info": {
   "codemirror_mode": {
    "name": "ipython",
    "version": 3
   },
   "file_extension": ".py",
   "mimetype": "text/x-python",
   "name": "python",
   "nbconvert_exporter": "python",
   "pygments_lexer": "ipython3",
   "version": "3.7.4"
  }
 },
 "nbformat": 4,
 "nbformat_minor": 2
}
