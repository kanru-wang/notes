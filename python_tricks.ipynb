{
 "cells": [
  {
   "cell_type": "markdown",
   "metadata": {},
   "source": [
    "- nbextensions has many useful tools, e.g. Table of Contents, Autopep8\n",
    "\n",
    "https://jupyter-contrib-nbextensions.readthedocs.io/en/latest/install.html"
   ]
  },
  {
   "cell_type": "markdown",
   "metadata": {},
   "source": [
    "<br>\n",
    "\n",
    "- View → Cell Toolbar → Slideshow to prepare slides in Jupyter notebook"
   ]
  },
  {
   "cell_type": "markdown",
   "metadata": {},
   "source": [
    "<br>\n",
    "\n",
    "In below,\n",
    "- pytest fixture setup and teardown common resources\n",
    "- pytest mark.parametrize allow each of the value in the list passed to the unit test once, and get tested."
   ]
  },
  {
   "cell_type": "code",
   "execution_count": null,
   "metadata": {},
   "outputs": [],
   "source": [
    "import module_1\n",
    "\n",
    "@pytest.fixture\n",
    "def commonly_used_object():\n",
    "    return module_1.func_1()\n",
    "\n",
    "@pytest.mark.parametrize('col', ['col_1', 'col_2', 'col_3'])    \n",
    "def test_function_1(commonly_used_object, col):\n",
    "    df = commonly_used_object._generate_df()\n",
    "    assert (col in df.columns)"
   ]
  },
  {
   "cell_type": "markdown",
   "metadata": {},
   "source": [
    "<br>\n",
    "<br>\n",
    "\n",
    "In below,\n",
    "- Single asterisk is for unnamed arguments, e.g. list\n",
    "- Double asterisk is for named, keyword arguments, e.g. dict"
   ]
  },
  {
   "cell_type": "code",
   "execution_count": 13,
   "metadata": {},
   "outputs": [
    {
     "name": "stdout",
     "output_type": "stream",
     "text": [
      "1\n",
      "2\n",
      "3\n",
      "6\n",
      "Name aaa has a number of 1.\n",
      "Name bbb has a number of 2.\n",
      "Name ccc has a number of 3.\n"
     ]
    }
   ],
   "source": [
    "def func_1(*args):\n",
    "    for number in args:\n",
    "        print(number)\n",
    "\n",
    "func_1(1, 2, 3)\n",
    "\n",
    "def func_2(**kwargs):\n",
    "    print(sum(kwargs.values()))\n",
    "    for name, number in kwargs.items():\n",
    "        print(\"Name {} has a number of {}.\".format(name, number))\n",
    "\n",
    "func_2(aaa = 1, bbb = 2, ccc = 3)"
   ]
  },
  {
   "cell_type": "markdown",
   "metadata": {},
   "source": [
    "<br>\n",
    "<br>\n",
    "\n",
    "In below, \n",
    "\n",
    "Decorator, from https://www.python-course.eu/python3_decorators.php"
   ]
  },
  {
   "cell_type": "code",
   "execution_count": 27,
   "metadata": {},
   "outputs": [
    {
     "name": "stdout",
     "output_type": "stream",
     "text": [
      "Before calling foo\n",
      "Hi, foo has been called with Hi\n",
      "After calling foo\n"
     ]
    }
   ],
   "source": [
    "def our_decorator(func):\n",
    "    def function_wrapper(x):\n",
    "        print(\"Before calling \" + func.__name__)\n",
    "        func(x)\n",
    "        print(\"After calling \" + func.__name__)\n",
    "    return function_wrapper\n",
    "\n",
    "@our_decorator\n",
    "def foo(y):\n",
    "    print(\"Hi, foo has been called with \" + str(y))\n",
    "\n",
    "# The @our_decorator is equivalent to\n",
    "# foo = our_decorator(foo)\n",
    "# The argument of foo() will be passed to function_wrapper()\n",
    "foo(\"Hi\")"
   ]
  },
  {
   "cell_type": "markdown",
   "metadata": {},
   "source": [
    "Can decorate more functions"
   ]
  },
  {
   "cell_type": "code",
   "execution_count": 26,
   "metadata": {},
   "outputs": [
    {
     "name": "stdout",
     "output_type": "stream",
     "text": [
      "Before calling succ\n",
      "11\n",
      "After calling succ\n"
     ]
    }
   ],
   "source": [
    "@our_decorator\n",
    "def succ(n):\n",
    "    print(n + 1)\n",
    "\n",
    "succ(10)"
   ]
  },
  {
   "cell_type": "markdown",
   "metadata": {},
   "source": [
    "Decorators with Parameters... Need to wrap another function around our previous decorator function."
   ]
  },
  {
   "cell_type": "code",
   "execution_count": 35,
   "metadata": {},
   "outputs": [
    {
     "name": "stdout",
     "output_type": "stream",
     "text": [
      "Good evening, foo returns:\n",
      "Adam, time to eat foo.\n",
      "Good morning, bar returns:\n",
      "Alex, time to eat bar.\n"
     ]
    }
   ],
   "source": [
    "def greeting(expr):\n",
    "    def greeting_decorator(func):\n",
    "        def function_wrapper(x):\n",
    "            print(expr + \", \" + func.__name__ + \" returns:\")\n",
    "            func(x)\n",
    "        return function_wrapper\n",
    "    return greeting_decorator\n",
    "\n",
    "@greeting(\"Good evening\")\n",
    "def foo(x):\n",
    "    print(x + \", time to eat foo.\")\n",
    "\n",
    "@greeting(\"Good morning\")\n",
    "def bar(x):\n",
    "    print(x + \", time to eat bar.\")\n",
    "    \n",
    "foo(\"Adam\")\n",
    "bar(\"Alex\")"
   ]
  },
  {
   "cell_type": "markdown",
   "metadata": {},
   "source": [
    "<br>\n",
    "\n",
    "In below,\n",
    "\n",
    "setting up database easily"
   ]
  },
  {
   "cell_type": "code",
   "execution_count": null,
   "metadata": {},
   "outputs": [],
   "source": [
    "import pandas as pd\n",
    "import sqlite3\n",
    "\n",
    "conn = sqlite3.connect(\"../data/test.db\")\n",
    "\n",
    "test_df.to_sql(\"test_table\", con=conn, if_exists=\"replace\", index=False)"
   ]
  },
  {
   "cell_type": "markdown",
   "metadata": {},
   "source": [
    "<br>\n",
    "\n",
    "In below,\n",
    "\n",
    "Flask example. Two chunks of code need to be run in two notebooks seperately."
   ]
  },
  {
   "cell_type": "code",
   "execution_count": null,
   "metadata": {},
   "outputs": [],
   "source": [
    "import flask\n",
    "\n",
    "def main():\n",
    "\n",
    "    app = flask.Flask(__name__)\n",
    "\n",
    "    example = {\n",
    "        \"student_1\": 100,\n",
    "        \"student_2\": 90,\n",
    "        \"student_3\": 85,\n",
    "        \"student_4\": 99\n",
    "    }\n",
    "\n",
    "    @app.route(\"/endpoint_1\", methods=[\"GET\"])\n",
    "    def api_all():\n",
    "        return flask.jsonify(example)\n",
    "\n",
    "    @app.route(\"/endpoint_2\", methods=[\"GET\"])\n",
    "    def api_code():\n",
    "        code = flask.request.args[\"code\"]\n",
    "        return flask.jsonify(example[code])\n",
    "    \n",
    "    app.run()\n",
    "\n",
    "if __name__ == \"__main__\":\n",
    "    main()"
   ]
  },
  {
   "cell_type": "code",
   "execution_count": null,
   "metadata": {},
   "outputs": [],
   "source": [
    "import requests\n",
    "\n",
    "# Example 1\n",
    "endpoint = \"http://127.0.0.1:5000/endpoint_1\"\n",
    "\n",
    "r = requests.get(endpoint)\n",
    "\n",
    "print(r.status_code)\n",
    "\n",
    "if r.status_code == 200:\n",
    "    print(\"Success\")\n",
    "    print(r.json())\n",
    "else:\n",
    "    print(\"Fail\")\n",
    "    \n",
    "# Example 2\n",
    "endpoint = \"http://127.0.0.1:5000/endpoint_2\"\n",
    "\n",
    "r = requests.get(endpoint, params={\"code\":\"student_1\"})\n",
    "\n",
    "if r.status_code == 200:\n",
    "    print(\"Success\")\n",
    "    print(r.json())\n",
    "else:\n",
    "    print(\"Fail\")"
   ]
  },
  {
   "cell_type": "markdown",
   "metadata": {},
   "source": [
    "<br>\n",
    "<br>\n",
    "\n",
    "Regex:\n",
    "- `re.search()` with `span()` or `group()` reports the first match it finds.\n",
    "- `re.findall()` finds all substrings where the RE matches, and returns them as a list.\n",
    "\n",
    "<br>\n",
    "<br>\n",
    "In below,\n",
    "\n",
    "fancy assertion:"
   ]
  },
  {
   "cell_type": "code",
   "execution_count": 36,
   "metadata": {},
   "outputs": [
    {
     "ename": "AssertionError",
     "evalue": "Did you know you can put explaination here?",
     "output_type": "error",
     "traceback": [
      "\u001b[0;31m---------------------------------------------------------------------------\u001b[0m",
      "\u001b[0;31mAssertionError\u001b[0m                            Traceback (most recent call last)",
      "\u001b[0;32m<ipython-input-36-4b4b09807ea3>\u001b[0m in \u001b[0;36m<module>\u001b[0;34m\u001b[0m\n\u001b[0;32m----> 1\u001b[0;31m \u001b[0;32massert\u001b[0m \u001b[0;32mFalse\u001b[0m\u001b[0;34m,\u001b[0m \u001b[0;34m\"Did you know you can put explaination here?\"\u001b[0m\u001b[0;34m\u001b[0m\u001b[0;34m\u001b[0m\u001b[0m\n\u001b[0m",
      "\u001b[0;31mAssertionError\u001b[0m: Did you know you can put explaination here?"
     ]
    }
   ],
   "source": [
    "assert False, \"Did you know you can put explaination here?\""
   ]
  },
  {
   "cell_type": "markdown",
   "metadata": {},
   "source": [
    "<br>\n",
    "<br>\n",
    "\n",
    "In below,\n",
    "\n",
    "Logging:"
   ]
  },
  {
   "cell_type": "code",
   "execution_count": 41,
   "metadata": {},
   "outputs": [],
   "source": [
    "import logging\n",
    "\n",
    "# for jupyter notebooks\n",
    "logger = logging.getLogger()\n",
    "\n",
    "# the file handler\n",
    "fhandler = logging.FileHandler(filename=\"example.log\", mode=\"a\")\n",
    "\n",
    "# format\n",
    "formatter = logging.Formatter(\n",
    "    \"Timestamp: %(asctime)s - Level: %(levelname)s - Message: %(message)s\"\n",
    ")\n",
    "\n",
    "# set the format\n",
    "fhandler.setFormatter(formatter)\n",
    "\n",
    "# add the file handler\n",
    "logger.addHandler(fhandler)\n",
    "\n",
    "# setting the level of logging, messages below this severity will not be logged\n",
    "logger.setLevel(logging.WARNING)"
   ]
  },
  {
   "cell_type": "markdown",
   "metadata": {},
   "source": [
    "Now try generating five messages in the order of severity"
   ]
  },
  {
   "cell_type": "code",
   "execution_count": 42,
   "metadata": {},
   "outputs": [],
   "source": [
    "logging.debug(\"debug message\")\n",
    "logging.info(\"info message\")\n",
    "logging.warning(\"warning message\")\n",
    "logging.error(\"error message\")\n",
    "logging.critical(\"critical message\")"
   ]
  },
  {
   "cell_type": "markdown",
   "metadata": {},
   "source": [
    "In the log, there is now:\n",
    "- Timestamp: 2020-06-05 10:04:15,631 - Level: WARNING - Message: warning message\n",
    "- Timestamp: 2020-06-05 10:04:15,632 - Level: ERROR - Message: error message\n",
    "- Timestamp: 2020-06-05 10:04:15,632 - Level: CRITICAL - Message: critical message"
   ]
  },
  {
   "cell_type": "markdown",
   "metadata": {},
   "source": [
    "<br>\n",
    "<br>\n",
    "\n",
    "In below,\n",
    "\n",
    "`np.where()`"
   ]
  },
  {
   "cell_type": "code",
   "execution_count": 1,
   "metadata": {},
   "outputs": [
    {
     "name": "stdout",
     "output_type": "stream",
     "text": [
      "[[0 1 2]\n",
      " [3 4 5]\n",
      " [6 7 8]]\n"
     ]
    }
   ],
   "source": [
    "import numpy as np\n",
    "\n",
    "a = np.arange(9).reshape((3, 3))\n",
    "print(a)"
   ]
  },
  {
   "cell_type": "code",
   "execution_count": 2,
   "metadata": {},
   "outputs": [
    {
     "name": "stdout",
     "output_type": "stream",
     "text": [
      "[[ 0 10 20]\n",
      " [30 -1 -1]\n",
      " [-1 -1 -1]]\n"
     ]
    }
   ],
   "source": [
    "print(np.where(a < 4, a * 10, -1))"
   ]
  },
  {
   "cell_type": "markdown",
   "metadata": {},
   "source": [
    "<br>\n",
    "<br>\n",
    "\n",
    "In below,\n",
    "\n",
    "To return an object other than an integer/string from `np.vectorize`, you need to specify the object type: \n",
    "\n",
    "    np.vectorize(foo, otypes=[list])\n",
    "\n",
    "else you will get a \n",
    "    \n",
    "    ValueError: setting an array element with a sequence"
   ]
  },
  {
   "cell_type": "markdown",
   "metadata": {},
   "source": [
    "<br>\n",
    "<br>\n",
    "\n",
    "In below,\n",
    "\n",
    "how to generate `requirements.txt`, and how to use it:"
   ]
  },
  {
   "cell_type": "code",
   "execution_count": null,
   "metadata": {},
   "outputs": [],
   "source": [
    "pip freeze > requirements.txt\n",
    "pip install -r requirements.txt"
   ]
  }
 ],
 "metadata": {
  "kernelspec": {
   "display_name": "Python 3",
   "language": "python",
   "name": "python3"
  },
  "language_info": {
   "codemirror_mode": {
    "name": "ipython",
    "version": 3
   },
   "file_extension": ".py",
   "mimetype": "text/x-python",
   "name": "python",
   "nbconvert_exporter": "python",
   "pygments_lexer": "ipython3",
   "version": "3.7.4"
  }
 },
 "nbformat": 4,
 "nbformat_minor": 2
}
