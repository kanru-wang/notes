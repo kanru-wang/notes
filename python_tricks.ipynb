{
 "cells": [
  {
   "cell_type": "markdown",
   "metadata": {},
   "source": [
    "- nbextensions has many useful tools, e.g. Table of Contents, Autopep8\n",
    "\n",
    "https://jupyter-contrib-nbextensions.readthedocs.io/en/latest/install.html"
   ]
  },
  {
   "cell_type": "markdown",
   "metadata": {},
   "source": [
    "<br>\n",
    "\n",
    "- View → Cell Toolbar → Slideshow to prepare slides in Jupyter notebook"
   ]
  },
  {
   "cell_type": "markdown",
   "metadata": {},
   "source": [
    "<br>\n",
    "\n",
    "In below,\n",
    "- pytest fixture setup and teardown common resources\n",
    "- pytest mark.parametrize allow each of the value in the list passed to the unit test once, and get tested."
   ]
  },
  {
   "cell_type": "code",
   "execution_count": null,
   "metadata": {},
   "outputs": [],
   "source": [
    "import module_1\n",
    "\n",
    "@pytest.fixture\n",
    "def commonly_used_object():\n",
    "    return module_1.func_1()\n",
    "\n",
    "@pytest.mark.parametrize('col', ['col_1', 'col_2', 'col_3'])    \n",
    "def test_function_1(commonly_used_object, col):\n",
    "    df = commonly_used_object._generate_df()\n",
    "    assert (col in df.columns)"
   ]
  },
  {
   "cell_type": "markdown",
   "metadata": {},
   "source": [
    "<br>\n",
    "<br>\n",
    "\n",
    "In below,\n",
    "- Single asterisk is for unnamed arguments, e.g. list\n",
    "- Double asterisk is for named, keyword arguments, e.g. dict"
   ]
  },
  {
   "cell_type": "code",
   "execution_count": 13,
   "metadata": {},
   "outputs": [
    {
     "name": "stdout",
     "output_type": "stream",
     "text": [
      "1\n",
      "2\n",
      "3\n",
      "6\n",
      "Name aaa has a number of 1.\n",
      "Name bbb has a number of 2.\n",
      "Name ccc has a number of 3.\n"
     ]
    }
   ],
   "source": [
    "def func_1(*args):\n",
    "    for number in args:\n",
    "        print(number)\n",
    "\n",
    "func_1(1, 2, 3)\n",
    "\n",
    "def func_2(**kwargs):\n",
    "    print(sum(kwargs.values()))\n",
    "    for name, number in kwargs.items():\n",
    "        print(\"Name {} has a number of {}.\".format(name, number))\n",
    "\n",
    "func_2(aaa = 1, bbb = 2, ccc = 3)"
   ]
  },
  {
   "cell_type": "markdown",
   "metadata": {},
   "source": [
    "<br>\n",
    "<br>\n",
    "\n",
    "In below, \n",
    "\n",
    "Decorator, from https://www.python-course.eu/python3_decorators.php"
   ]
  },
  {
   "cell_type": "code",
   "execution_count": 27,
   "metadata": {},
   "outputs": [
    {
     "name": "stdout",
     "output_type": "stream",
     "text": [
      "Before calling foo\n",
      "Hi, foo has been called with Hi\n",
      "After calling foo\n"
     ]
    }
   ],
   "source": [
    "def our_decorator(func):\n",
    "    def function_wrapper(x):\n",
    "        print(\"Before calling \" + func.__name__)\n",
    "        func(x)\n",
    "        print(\"After calling \" + func.__name__)\n",
    "    return function_wrapper\n",
    "\n",
    "@our_decorator\n",
    "def foo(y):\n",
    "    print(\"Hi, foo has been called with \" + str(y))\n",
    "\n",
    "# The @our_decorator is equivalent to\n",
    "# foo = our_decorator(foo)\n",
    "# The argument of foo() will be passed to function_wrapper()\n",
    "foo(\"Hi\")"
   ]
  },
  {
   "cell_type": "markdown",
   "metadata": {},
   "source": [
    "Can decorate more functions"
   ]
  },
  {
   "cell_type": "code",
   "execution_count": 26,
   "metadata": {},
   "outputs": [
    {
     "name": "stdout",
     "output_type": "stream",
     "text": [
      "Before calling succ\n",
      "11\n",
      "After calling succ\n"
     ]
    }
   ],
   "source": [
    "@our_decorator\n",
    "def succ(n):\n",
    "    print(n + 1)\n",
    "\n",
    "succ(10)"
   ]
  },
  {
   "cell_type": "markdown",
   "metadata": {},
   "source": [
    "Decorators with Parameters... Need to wrap another function around our previous decorator function."
   ]
  },
  {
   "cell_type": "code",
   "execution_count": 35,
   "metadata": {},
   "outputs": [
    {
     "name": "stdout",
     "output_type": "stream",
     "text": [
      "Good evening, foo returns:\n",
      "Adam, time to eat foo.\n",
      "Good morning, bar returns:\n",
      "Alex, time to eat bar.\n"
     ]
    }
   ],
   "source": [
    "def greeting(expr):\n",
    "    def greeting_decorator(func):\n",
    "        def function_wrapper(x):\n",
    "            print(expr + \", \" + func.__name__ + \" returns:\")\n",
    "            func(x)\n",
    "        return function_wrapper\n",
    "    return greeting_decorator\n",
    "\n",
    "@greeting(\"Good evening\")\n",
    "def foo(x):\n",
    "    print(x + \", time to eat foo.\")\n",
    "\n",
    "@greeting(\"Good morning\")\n",
    "def bar(x):\n",
    "    print(x + \", time to eat bar.\")\n",
    "    \n",
    "foo(\"Adam\")\n",
    "bar(\"Alex\")"
   ]
  },
  {
   "cell_type": "markdown",
   "metadata": {},
   "source": [
    "<br>\n",
    "\n",
    "In below,\n",
    "\n",
    "setting up database easily"
   ]
  },
  {
   "cell_type": "code",
   "execution_count": null,
   "metadata": {},
   "outputs": [],
   "source": [
    "import pandas as pd\n",
    "import sqlite3\n",
    "\n",
    "conn = sqlite3.connect(\"../data/test.db\")\n",
    "\n",
    "test_df.to_sql(\"test_table\", con=conn, if_exists=\"replace\", index=False)"
   ]
  },
  {
   "cell_type": "markdown",
   "metadata": {},
   "source": [
    "<br>\n",
    "\n",
    "In below,\n",
    "\n",
    "Flask example. Two chunks of code need to be run in two notebooks seperately."
   ]
  },
  {
   "cell_type": "code",
   "execution_count": null,
   "metadata": {},
   "outputs": [],
   "source": [
    "import flask\n",
    "\n",
    "def main():\n",
    "\n",
    "    app = flask.Flask(__name__)\n",
    "\n",
    "    example = {\n",
    "        \"student_1\": 100,\n",
    "        \"student_2\": 90,\n",
    "        \"student_3\": 85,\n",
    "        \"student_4\": 99\n",
    "    }\n",
    "\n",
    "    @app.route(\"/endpoint_1\", methods=[\"GET\"])\n",
    "    def api_all():\n",
    "        return flask.jsonify(example)\n",
    "\n",
    "    @app.route(\"/endpoint_2\", methods=[\"GET\"])\n",
    "    def api_code():\n",
    "        code = flask.request.args[\"code\"]\n",
    "        return flask.jsonify(example[code])\n",
    "    \n",
    "    app.run()\n",
    "\n",
    "if __name__ == \"__main__\":\n",
    "    main()"
   ]
  },
  {
   "cell_type": "code",
   "execution_count": null,
   "metadata": {},
   "outputs": [],
   "source": [
    "import requests\n",
    "\n",
    "# Example 1\n",
    "endpoint = \"http://127.0.0.1:5000/endpoint_1\"\n",
    "\n",
    "r = requests.get(endpoint)\n",
    "\n",
    "print(r.status_code)\n",
    "\n",
    "if r.status_code == 200:\n",
    "    print(\"Success\")\n",
    "    print(r.json())\n",
    "else:\n",
    "    print(\"Fail\")\n",
    "    \n",
    "# Example 2\n",
    "endpoint = \"http://127.0.0.1:5000/endpoint_2\"\n",
    "\n",
    "r = requests.get(endpoint, params={\"code\":\"student_1\"})\n",
    "\n",
    "if r.status_code == 200:\n",
    "    print(\"Success\")\n",
    "    print(r.json())\n",
    "else:\n",
    "    print(\"Fail\")"
   ]
  },
  {
   "cell_type": "markdown",
   "metadata": {},
   "source": [
    "<br>\n",
    "<br>\n",
    "\n",
    "Regex:\n",
    "- `re.search()` with `span()` or `group()` reports the first match it finds.\n",
    "- `re.findall()` finds all substrings where the RE matches, and returns them as a list.\n",
    "\n",
    "<br>\n",
    "<br>\n",
    "In below,\n",
    "\n",
    "fancy assertion:"
   ]
  },
  {
   "cell_type": "code",
   "execution_count": 36,
   "metadata": {},
   "outputs": [
    {
     "ename": "AssertionError",
     "evalue": "Did you know you can put explaination here?",
     "output_type": "error",
     "traceback": [
      "\u001b[0;31m---------------------------------------------------------------------------\u001b[0m",
      "\u001b[0;31mAssertionError\u001b[0m                            Traceback (most recent call last)",
      "\u001b[0;32m<ipython-input-36-4b4b09807ea3>\u001b[0m in \u001b[0;36m<module>\u001b[0;34m\u001b[0m\n\u001b[0;32m----> 1\u001b[0;31m \u001b[0;32massert\u001b[0m \u001b[0;32mFalse\u001b[0m\u001b[0;34m,\u001b[0m \u001b[0;34m\"Did you know you can put explaination here?\"\u001b[0m\u001b[0;34m\u001b[0m\u001b[0;34m\u001b[0m\u001b[0m\n\u001b[0m",
      "\u001b[0;31mAssertionError\u001b[0m: Did you know you can put explaination here?"
     ]
    }
   ],
   "source": [
    "assert False, \"Did you know you can put explaination here?\""
   ]
  },
  {
   "cell_type": "markdown",
   "metadata": {},
   "source": [
    "<br>\n",
    "<br>\n",
    "\n",
    "In below,\n",
    "\n",
    "Logging:"
   ]
  },
  {
   "cell_type": "code",
   "execution_count": 41,
   "metadata": {},
   "outputs": [],
   "source": [
    "import logging\n",
    "\n",
    "# for jupyter notebooks\n",
    "logger = logging.getLogger()\n",
    "\n",
    "# the file handler\n",
    "fhandler = logging.FileHandler(filename=\"example.log\", mode=\"a\")\n",
    "\n",
    "# format\n",
    "formatter = logging.Formatter(\n",
    "    \"Timestamp: %(asctime)s - Level: %(levelname)s - Message: %(message)s\"\n",
    ")\n",
    "\n",
    "# set the format\n",
    "fhandler.setFormatter(formatter)\n",
    "\n",
    "# add the file handler\n",
    "logger.addHandler(fhandler)\n",
    "\n",
    "# setting the level of logging, messages below this severity will not be logged\n",
    "logger.setLevel(logging.WARNING)"
   ]
  },
  {
   "cell_type": "markdown",
   "metadata": {},
   "source": [
    "Now try generating five messages in the order of severity"
   ]
  },
  {
   "cell_type": "code",
   "execution_count": 42,
   "metadata": {},
   "outputs": [],
   "source": [
    "logging.debug(\"debug message\")\n",
    "logging.info(\"info message\")\n",
    "logging.warning(\"warning message\")\n",
    "logging.error(\"error message\")\n",
    "logging.critical(\"critical message\")"
   ]
  },
  {
   "cell_type": "markdown",
   "metadata": {},
   "source": [
    "In the log, there is now:\n",
    "- Timestamp: 2020-06-05 10:04:15,631 - Level: WARNING - Message: warning message\n",
    "- Timestamp: 2020-06-05 10:04:15,632 - Level: ERROR - Message: error message\n",
    "- Timestamp: 2020-06-05 10:04:15,632 - Level: CRITICAL - Message: critical message"
   ]
  },
  {
   "cell_type": "markdown",
   "metadata": {},
   "source": [
    "<br>\n",
    "<br>\n",
    "\n",
    "In below,\n",
    "\n",
    "`np.where()`"
   ]
  },
  {
   "cell_type": "code",
   "execution_count": 1,
   "metadata": {},
   "outputs": [
    {
     "name": "stdout",
     "output_type": "stream",
     "text": [
      "[[0 1 2]\n",
      " [3 4 5]\n",
      " [6 7 8]]\n"
     ]
    }
   ],
   "source": [
    "import numpy as np\n",
    "\n",
    "a = np.arange(9).reshape((3, 3))\n",
    "print(a)"
   ]
  },
  {
   "cell_type": "code",
   "execution_count": 2,
   "metadata": {},
   "outputs": [
    {
     "name": "stdout",
     "output_type": "stream",
     "text": [
      "[[ 0 10 20]\n",
      " [30 -1 -1]\n",
      " [-1 -1 -1]]\n"
     ]
    }
   ],
   "source": [
    "print(np.where(a < 4, a * 10, -1))"
   ]
  },
  {
   "cell_type": "markdown",
   "metadata": {},
   "source": [
    "<br>\n",
    "<br>\n",
    "\n",
    "In below,\n",
    "\n",
    "To return an object other than an integer/string from `np.vectorize`, you need to specify the object type: \n",
    "\n",
    "    np.vectorize(foo, otypes=[list])\n",
    "\n",
    "else you will get a \n",
    "    \n",
    "    ValueError: setting an array element with a sequence"
   ]
  },
  {
   "cell_type": "markdown",
   "metadata": {},
   "source": [
    "<br>\n",
    "<br>\n",
    "\n",
    "In below,\n",
    "\n",
    "how to generate `requirements.txt`, and how to use it:"
   ]
  },
  {
   "cell_type": "code",
   "execution_count": null,
   "metadata": {},
   "outputs": [],
   "source": [
    "pip freeze > requirements.txt\n",
    "pip install -r requirements.txt"
   ]
  },
  {
   "cell_type": "markdown",
   "metadata": {},
   "source": [
    "<br>\n",
    "<br>\n",
    "\n",
    "In below,\n",
    "\n",
    "how to ask pylint to ignore a specific line for a specific check. And see all checks that can be disabled here https://docs.pylint.org/en/1.6.0/features.html"
   ]
  },
  {
   "cell_type": "code",
   "execution_count": null,
   "metadata": {},
   "outputs": [],
   "source": [
    "x    =         x                +       1 # pylint: disable=line-too-long, bad-whitespace"
   ]
  },
  {
   "cell_type": "markdown",
   "metadata": {},
   "source": [
    "<br>\n",
    "<br>\n",
    "\n",
    "In below,\n",
    "\n",
    "how to get every combination of items in two lists:"
   ]
  },
  {
   "cell_type": "code",
   "execution_count": 2,
   "metadata": {},
   "outputs": [
    {
     "name": "stdout",
     "output_type": "stream",
     "text": [
      "1 4\n",
      "1 5\n",
      "1 6\n",
      "2 4\n",
      "2 5\n",
      "2 6\n",
      "3 4\n",
      "3 5\n",
      "3 6\n"
     ]
    }
   ],
   "source": [
    "import itertools\n",
    "for row, col in list(itertools.product([1,2,3], [4,5,6])):\n",
    "    print(row, col)"
   ]
  },
  {
   "cell_type": "markdown",
   "metadata": {},
   "source": [
    "<br>\n",
    "<br>"
   ]
  },
  {
   "cell_type": "code",
   "execution_count": 6,
   "metadata": {},
   "outputs": [
    {
     "data": {
      "text/plain": [
       "0    kitten\n",
       "1     puppy\n",
       "2       NaN\n",
       "3       NaN\n",
       "dtype: object"
      ]
     },
     "execution_count": 6,
     "metadata": {},
     "output_type": "execute_result"
    }
   ],
   "source": [
    "s = pd.Series(['cat', 'dog', np.nan, 'rabbit'])\n",
    "s.map({'cat': 'kitten', 'dog': 'puppy'})"
   ]
  },
  {
   "cell_type": "markdown",
   "metadata": {},
   "source": [
    "<br>\n",
    "<br>\n"
   ]
  },
  {
   "cell_type": "code",
   "execution_count": 4,
   "metadata": {},
   "outputs": [
    {
     "data": {
      "text/plain": [
       "3.0    2\n",
       "4.0    1\n",
       "2.0    1\n",
       "1.0    1\n",
       "dtype: int64"
      ]
     },
     "execution_count": 4,
     "metadata": {},
     "output_type": "execute_result"
    }
   ],
   "source": [
    "s = pd.Series([3, 1, 2, 3, 4, np.nan])\n",
    "s.value_counts()"
   ]
  },
  {
   "cell_type": "code",
   "execution_count": 6,
   "metadata": {},
   "outputs": [
    {
     "data": {
      "text/plain": [
       "3.0    0.333333\n",
       "NaN    0.166667\n",
       "4.0    0.166667\n",
       "2.0    0.166667\n",
       "1.0    0.166667\n",
       "dtype: float64"
      ]
     },
     "execution_count": 6,
     "metadata": {},
     "output_type": "execute_result"
    }
   ],
   "source": [
    "s.value_counts(normalize=True, dropna=False)"
   ]
  },
  {
   "cell_type": "markdown",
   "metadata": {},
   "source": [
    "<br>\n",
    "<br>\n",
    "\n",
    "In below,\n",
    "\n",
    "a function to compare two dataframes"
   ]
  },
  {
   "cell_type": "code",
   "execution_count": null,
   "metadata": {},
   "outputs": [],
   "source": [
    "# compare two data frames and show diffs (need equal shapes and sort)\n",
    "def dfDiff(oldFrame, newFrame):\n",
    "    dfBool = (oldFrame != newFrame).stack()  \n",
    "    diff = pd.concat([oldFrame.stack()[dfBool],\n",
    "    newFrame.stack()[dfBool]], axis=1)\n",
    "    diff.columns=[\"Old\", \"New\"]\n",
    "    return diff"
   ]
  },
  {
   "cell_type": "markdown",
   "metadata": {},
   "source": [
    "<br>\n",
    "<br>\n",
    "\n",
    "In below,\n",
    "\n",
    "sick of big data frame for showing examples? Just pick, say, 30 random rows."
   ]
  },
  {
   "cell_type": "code",
   "execution_count": null,
   "metadata": {},
   "outputs": [],
   "source": [
    "df.sample(n=30, random_state=1)"
   ]
  },
  {
   "cell_type": "markdown",
   "metadata": {},
   "source": [
    "<br>\n",
    "<br>\n",
    "\n",
    "crosstab"
   ]
  },
  {
   "cell_type": "code",
   "execution_count": 2,
   "metadata": {},
   "outputs": [
    {
     "data": {
      "text/html": [
       "<div>\n",
       "<style scoped>\n",
       "    .dataframe tbody tr th:only-of-type {\n",
       "        vertical-align: middle;\n",
       "    }\n",
       "\n",
       "    .dataframe tbody tr th {\n",
       "        vertical-align: top;\n",
       "    }\n",
       "\n",
       "    .dataframe thead th {\n",
       "        text-align: right;\n",
       "    }\n",
       "</style>\n",
       "<table border=\"1\" class=\"dataframe\">\n",
       "  <thead>\n",
       "    <tr style=\"text-align: right;\">\n",
       "      <th>b</th>\n",
       "      <th>one</th>\n",
       "      <th>two</th>\n",
       "    </tr>\n",
       "    <tr>\n",
       "      <th>a</th>\n",
       "      <th></th>\n",
       "      <th></th>\n",
       "    </tr>\n",
       "  </thead>\n",
       "  <tbody>\n",
       "    <tr>\n",
       "      <td>bar</td>\n",
       "      <td>3</td>\n",
       "      <td>1</td>\n",
       "    </tr>\n",
       "    <tr>\n",
       "      <td>foo</td>\n",
       "      <td>4</td>\n",
       "      <td>3</td>\n",
       "    </tr>\n",
       "  </tbody>\n",
       "</table>\n",
       "</div>"
      ],
      "text/plain": [
       "b    one  two\n",
       "a            \n",
       "bar    3    1\n",
       "foo    4    3"
      ]
     },
     "execution_count": 2,
     "metadata": {},
     "output_type": "execute_result"
    }
   ],
   "source": [
    "a = np.array([\"foo\", \"foo\", \"foo\", \"foo\", \"bar\", \"bar\", \"bar\", \"bar\", \"foo\", \"foo\", \"foo\"])\n",
    "b = np.array([\"one\", \"one\", \"one\", \"two\", \"one\", \"one\", \"one\", \"two\", \"two\", \"two\", \"one\"])\n",
    "pd.crosstab(a, b, rownames=['a'], colnames=['b'])"
   ]
  },
  {
   "cell_type": "markdown",
   "metadata": {},
   "source": [
    "<br>\n",
    "<br>\n",
    "\n",
    "In below,\n",
    "\n",
    "Counter. See many more functionality https://docs.python.org/3/library/collections.html#collections.Counter"
   ]
  },
  {
   "cell_type": "code",
   "execution_count": 1,
   "metadata": {},
   "outputs": [
    {
     "data": {
      "text/plain": [
       "2"
      ]
     },
     "execution_count": 1,
     "metadata": {},
     "output_type": "execute_result"
    }
   ],
   "source": [
    "from collections import Counter\n",
    "c = Counter(['eggs', 'ham', 'bacon', 'bacon', 'ham', 'ham', 'ham'])\n",
    "c['bacon']"
   ]
  },
  {
   "cell_type": "code",
   "execution_count": 2,
   "metadata": {},
   "outputs": [
    {
     "data": {
      "text/plain": [
       "[('ham', 4), ('bacon', 2)]"
      ]
     },
     "execution_count": 2,
     "metadata": {},
     "output_type": "execute_result"
    }
   ],
   "source": [
    "c.most_common(2)"
   ]
  },
  {
   "cell_type": "markdown",
   "metadata": {},
   "source": [
    "<br>\n",
    "<br>\n",
    "\n",
    "In below,\n",
    "\n",
    "1) Linting and formatting are not the same. Quote \"Linting, on the other hand, analyzes code for common syntactical, stylistic, and functional errors as well as unconventional programming practices that can lead to errors. Although there is a little overlap between formatting and linting, the two capabilities are complementary.)\"\n",
    "\n",
    "2) Run autopep8 by `Shift + Option + F`\n",
    "\n",
    "3) No need to enable linting. It is enabled by default.\n",
    "\n",
    "4) Autopep8 is the default VS code python fomatter, but it is not powerful enough, a lot of correction is not done. Need to specify `\"python.linting.pycodestyleEnabled\": true` in “settings.json”, see errors in the lower pane, and manually do the corrections.\n",
    "\n",
    "5) To customize pep8 rules, in the Command Palette, search for “settings.json” (choose Open Settings (JSON), not Open Default Settings (JSON)). Then add the following:"
   ]
  },
  {
   "cell_type": "code",
   "execution_count": null,
   "metadata": {},
   "outputs": [],
   "source": [
    "{\n",
    "    \"_a_place_for_comments\" : [\n",
    "        \"pycodestyleArgs and autopep8Args are both about pep8 and must be the same\",\n",
    "        \"autopep8Args specifies shift + option + F autoformating, won't correct everything, so need pycodestyleArgs\",\n",
    "        \"pycodestyleArgs displays pep8 warnings and errors\"\n",
    "    ],\n",
    "     \"python.linting.pycodestyleEnabled\": true,\n",
    "     \"python.linting.pycodestyleArgs\": [\n",
    "        \"--max-line-length=100\",\n",
    "        \"--ignore=E251,E266\"\n",
    "    ],\n",
    "    \"python.formatting.autopep8Args\": [\n",
    "        \"--max-line-length=100\",\n",
    "        \"--ignore=E251,E266\"\n",
    "    ]\n",
    "}"
   ]
  },
  {
   "cell_type": "markdown",
   "metadata": {},
   "source": [
    "<br>\n",
    "<br>\n",
    "<br>\n",
    "\n",
    "<div class=\"alert alert-danger\" role=\"alert\">\n",
    "    <p>How to show an alert.</p>\n",
    "    <p>How to show an alert.</p>\n",
    "</div>\n",
    "\n",
    "<div class=\"alert alert-info\">\n",
    "    <p>How to show an alert.</p>\n",
    "</div>\n",
    "\n",
    "<br>\n",
    "<br>\n",
    "\n",
    "## Table of contents\n",
    "[1. Step 1](#Step_1)<br>\n",
    "[2. Step 2](#Step_2)<br>\n",
    "[3. Step 3](#Step_3)<br>\n",
    "\n",
    "- It seems that a snake case section heading is necessary.\n",
    "- `#` is necessary\n",
    "- As long as `<a class=\"anchor\" id=\"Step_3\"></a>` is added in markdown, naming of the Step 3 heading does not matter.\n",
    "- Size of the heading does not matter."
   ]
  },
  {
   "cell_type": "markdown",
   "metadata": {},
   "source": [
    "## Step_1"
   ]
  },
  {
   "cell_type": "code",
   "execution_count": null,
   "metadata": {},
   "outputs": [],
   "source": []
  },
  {
   "cell_type": "markdown",
   "metadata": {},
   "source": [
    "# Step_2"
   ]
  },
  {
   "cell_type": "code",
   "execution_count": null,
   "metadata": {},
   "outputs": [],
   "source": []
  },
  {
   "cell_type": "markdown",
   "metadata": {},
   "source": [
    "<a class=\"anchor\" id=\"Step_3\"></a>\n",
    "\n",
    "#### Step aaaaaaaa 3"
   ]
  },
  {
   "cell_type": "code",
   "execution_count": null,
   "metadata": {},
   "outputs": [],
   "source": []
  },
  {
   "cell_type": "markdown",
   "metadata": {},
   "source": [
    "```python\n",
    "# How to use python style markdown\n",
    "df = function_1(df)\n",
    "df = function_2(df, 'SOME_STRING')\n",
    "```"
   ]
  },
  {
   "cell_type": "markdown",
   "metadata": {},
   "source": [
    "<br>\n",
    "<br>\n",
    "\n",
    "In below,\n",
    "\n",
    "how to read in all types of YAML formats"
   ]
  },
  {
   "cell_type": "code",
   "execution_count": 45,
   "metadata": {},
   "outputs": [],
   "source": [
    "import yaml\n",
    "with open('yaml_examples.yml', 'r') as file:\n",
    "    config = yaml.load(file, Loader=yaml.FullLoader)"
   ]
  },
  {
   "cell_type": "code",
   "execution_count": 46,
   "metadata": {},
   "outputs": [
    {
     "data": {
      "text/plain": [
       "'20190101'"
      ]
     },
     "execution_count": 46,
     "metadata": {},
     "output_type": "execute_result"
    }
   ],
   "source": [
    "config[\"example_1\"]"
   ]
  },
  {
   "cell_type": "markdown",
   "metadata": {},
   "source": [
    "<br>\n",
    "To get List"
   ]
  },
  {
   "cell_type": "code",
   "execution_count": 47,
   "metadata": {},
   "outputs": [
    {
     "data": {
      "text/plain": [
       "[['item_1', 'item_2', 'item_3']]"
      ]
     },
     "execution_count": 47,
     "metadata": {},
     "output_type": "execute_result"
    }
   ],
   "source": [
    "config[\"example_2\"]"
   ]
  },
  {
   "cell_type": "code",
   "execution_count": 48,
   "metadata": {},
   "outputs": [
    {
     "data": {
      "text/plain": [
       "['item_1', 'item_2', 'item_3']"
      ]
     },
     "execution_count": 48,
     "metadata": {},
     "output_type": "execute_result"
    }
   ],
   "source": [
    "config[\"example_3\"]"
   ]
  },
  {
   "cell_type": "code",
   "execution_count": 49,
   "metadata": {},
   "outputs": [
    {
     "data": {
      "text/plain": [
       "['item_1', 'item_2', 'item_3']"
      ]
     },
     "execution_count": 49,
     "metadata": {},
     "output_type": "execute_result"
    }
   ],
   "source": [
    "config[\"example_4\"]"
   ]
  },
  {
   "cell_type": "markdown",
   "metadata": {},
   "source": [
    "<br>\n",
    "To get Dict"
   ]
  },
  {
   "cell_type": "code",
   "execution_count": 50,
   "metadata": {},
   "outputs": [
    {
     "data": {
      "text/plain": [
       "{'item_1': '9:00 am', 'item_2': '12:00 pm', 'item_3': '5:00 pm'}"
      ]
     },
     "execution_count": 50,
     "metadata": {},
     "output_type": "execute_result"
    }
   ],
   "source": [
    "config[\"example_5\"]"
   ]
  },
  {
   "cell_type": "code",
   "execution_count": 51,
   "metadata": {},
   "outputs": [
    {
     "data": {
      "text/plain": [
       "{'item_1': '9:00 am', 'item_2': '12:00 pm', 'item_3': '5:00 pm'}"
      ]
     },
     "execution_count": 51,
     "metadata": {},
     "output_type": "execute_result"
    }
   ],
   "source": [
    "config[\"example_6\"]"
   ]
  },
  {
   "cell_type": "markdown",
   "metadata": {},
   "source": [
    "<br>\n",
    "Creative"
   ]
  },
  {
   "cell_type": "code",
   "execution_count": 52,
   "metadata": {},
   "outputs": [
    {
     "data": {
      "text/plain": [
       "'{item_1} + {item_2} = 1234'"
      ]
     },
     "execution_count": 52,
     "metadata": {},
     "output_type": "execute_result"
    }
   ],
   "source": [
    "config[\"example_7\"]"
   ]
  },
  {
   "cell_type": "code",
   "execution_count": 53,
   "metadata": {},
   "outputs": [
    {
     "data": {
      "text/plain": [
       "'AAA + BBB = 1234'"
      ]
     },
     "execution_count": 53,
     "metadata": {},
     "output_type": "execute_result"
    }
   ],
   "source": [
    "config[\"example_7\"].format(item_1 = \"AAA\", item_2 = \"BBB\")"
   ]
  },
  {
   "cell_type": "markdown",
   "metadata": {},
   "source": [
    "`()` are not recognized, and therefore are treated as characters."
   ]
  },
  {
   "cell_type": "code",
   "execution_count": 54,
   "metadata": {},
   "outputs": [
    {
     "data": {
      "text/plain": [
       "\"('item_1','item_2','item_3')\""
      ]
     },
     "execution_count": 54,
     "metadata": {},
     "output_type": "execute_result"
    }
   ],
   "source": [
    "config[\"example_8\"]"
   ]
  },
  {
   "cell_type": "markdown",
   "metadata": {},
   "source": [
    "<br>\n",
    "Reference within YAML file"
   ]
  },
  {
   "cell_type": "code",
   "execution_count": 55,
   "metadata": {},
   "outputs": [
    {
     "data": {
      "text/plain": [
       "{'item_1': '9:00 am', 'item_2': '12:00 pm', 'item_3': ['5:00 pm', '9:00 pm']}"
      ]
     },
     "execution_count": 55,
     "metadata": {},
     "output_type": "execute_result"
    }
   ],
   "source": [
    "config[\"example_9\"]"
   ]
  },
  {
   "cell_type": "code",
   "execution_count": 56,
   "metadata": {},
   "outputs": [
    {
     "data": {
      "text/plain": [
       "{'employee_1': {'name': 'AAA',\n",
       "  'age': 20,\n",
       "  'arrival': '9:00 am',\n",
       "  'lunch': '12:00 pm',\n",
       "  'leave (normal/night)': ['5:00 pm', '9:00 pm']},\n",
       " 'employee_2': {'name': 'BBB',\n",
       "  'age': 21,\n",
       "  'arrival': '9:00 am',\n",
       "  'lunch': '12:00 pm',\n",
       "  'leave (normal/night)': ['5:00 pm', '9:00 pm']},\n",
       " 'employee_3': {'name': 'CCC',\n",
       "  'age': 22,\n",
       "  'arrival': '9:00 am',\n",
       "  'lunch': '12:00 pm',\n",
       "  'leave (normal/night)': ['5:00 pm', '9:00 pm']},\n",
       " 'employee_4': {'name': 'DDD',\n",
       "  'age': 23,\n",
       "  'arrival': '9:00 am',\n",
       "  'lunch': '12:00 pm',\n",
       "  'leave (normal/night)': ['5:00 pm', '9:00 pm']},\n",
       " 'employee_5': {'name': 'EEE',\n",
       "  'age': 24,\n",
       "  'arrival': '9:00 am',\n",
       "  'lunch': '12:00 pm',\n",
       "  'leave (normal/night)': ['5:00 pm', '9:00 pm']}}"
      ]
     },
     "execution_count": 56,
     "metadata": {},
     "output_type": "execute_result"
    }
   ],
   "source": [
    "config[\"example_10\"]"
   ]
  },
  {
   "cell_type": "markdown",
   "metadata": {},
   "source": [
    "<br>\n",
    "<br>\n",
    "\n",
    "In below,\n",
    "\n",
    "in a notebook on the Kaggle platform, create a link to download the dataframe which was saved with .to_csv method"
   ]
  },
  {
   "cell_type": "code",
   "execution_count": null,
   "metadata": {},
   "outputs": [],
   "source": [
    "from IPython.display import HTML\n",
    "\n",
    "def create_download_link(title = \"Download CSV file\", filename = \"data.csv\"):  \n",
    "    html = '<a href={filename}>{title}</a>'\n",
    "    html = html.format(title=title,filename=filename)\n",
    "    return HTML(html)\n",
    "\n",
    "# create a link to download the dataframe which was saved with .to_csv method\n",
    "create_download_link(filename='predictions.csv')"
   ]
  },
  {
   "cell_type": "markdown",
   "metadata": {},
   "source": [
    "<br>\n",
    "<br>\n",
    "\n",
    "In below,\n",
    "\n",
    "@classmethod\n",
    "\n",
    "The class method is always attached to a class, with the first argument as the class itself `cls`."
   ]
  },
  {
   "cell_type": "code",
   "execution_count": 2,
   "metadata": {},
   "outputs": [
    {
     "name": "stdout",
     "output_type": "stream",
     "text": [
      "Adam's age is: 19\n",
      "John's age is: 35\n"
     ]
    }
   ],
   "source": [
    "from datetime import date\n",
    "\n",
    "# random Person\n",
    "class Person:\n",
    "    def __init__(self, name, age):\n",
    "        self.name = name\n",
    "        self.age = age\n",
    "\n",
    "    @classmethod\n",
    "    def fromBirthYear(cls, name, birthYear):\n",
    "        return cls(name, date.today().year - birthYear)\n",
    "\n",
    "    def display(self):\n",
    "        print(self.name + \"'s age is: \" + str(self.age))\n",
    "\n",
    "person = Person('Adam', 19)\n",
    "person.display()\n",
    "\n",
    "person1 = Person.fromBirthYear('John',  1985)\n",
    "person1.display()"
   ]
  },
  {
   "cell_type": "markdown",
   "metadata": {},
   "source": [
    "<br>\n",
    "\n",
    "@staticmethod"
   ]
  },
  {
   "cell_type": "code",
   "execution_count": 7,
   "metadata": {},
   "outputs": [
    {
     "name": "stdout",
     "output_type": "stream",
     "text": [
      "True\n",
      "False\n"
     ]
    }
   ],
   "source": [
    "class Student(object):\n",
    "\n",
    "    @staticmethod\n",
    "    def is_full_name(name_str):\n",
    "        names = name_str.split(' ')\n",
    "        return len(names) > 1\n",
    "\n",
    "print(Student.is_full_name('Scott Robinson'))   # True\n",
    "print(Student.is_full_name('Scott'))            # False"
   ]
  },
  {
   "cell_type": "code",
   "execution_count": null,
   "metadata": {},
   "outputs": [],
   "source": []
  }
 ],
 "metadata": {
  "kernelspec": {
   "display_name": "Python 3",
   "language": "python",
   "name": "python3"
  },
  "language_info": {
   "codemirror_mode": {
    "name": "ipython",
    "version": 3
   },
   "file_extension": ".py",
   "mimetype": "text/x-python",
   "name": "python",
   "nbconvert_exporter": "python",
   "pygments_lexer": "ipython3",
   "version": "3.7.4"
  }
 },
 "nbformat": 4,
 "nbformat_minor": 2
}
