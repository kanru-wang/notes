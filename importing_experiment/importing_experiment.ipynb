{
 "cells": [
  {
   "cell_type": "markdown",
   "metadata": {},
   "source": [
    "### When we import a folder, the `__init__.py` at the root level of this folder is executed. Therefore we should put any necessary subsidiary importing inside of the `__init__.py`\n",
    "\n",
    "### Assume that neither folder level_1, nor folder level_2 has `__init__.py`\n",
    "\n",
    "### If directly import the script, there is no need to have `__init__.py` in the folder level_1"
   ]
  },
  {
   "cell_type": "code",
   "execution_count": 1,
   "metadata": {},
   "outputs": [],
   "source": [
    "from level_1 import level_2, level_1_script"
   ]
  },
  {
   "cell_type": "code",
   "execution_count": 2,
   "metadata": {},
   "outputs": [
    {
     "name": "stdout",
     "output_type": "stream",
     "text": [
      "Hello~\n"
     ]
    }
   ],
   "source": [
    "level_1_script.hello()"
   ]
  },
  {
   "cell_type": "markdown",
   "metadata": {},
   "source": [
    "### Since the folder level_2 does not have `__init__.py`"
   ]
  },
  {
   "cell_type": "raw",
   "metadata": {},
   "source": [
    "level_2.level_2_script.how_are_you()\n",
    "\n",
    "---------------------------------------------------------------------------\n",
    "AttributeError                            Traceback (most recent call last)\n",
    "<ipython-input-3-c72bf4c4d39f> in <module>\n",
    "----> 1 level_2.level_2_script.how_are_you()\n",
    "\n",
    "AttributeError: module 'level_1.level_2' has no attribute 'level_2_script'"
   ]
  },
  {
   "cell_type": "markdown",
   "metadata": {},
   "source": [
    "### After adding `__init__.py` to the folder level_2"
   ]
  },
  {
   "cell_type": "code",
   "execution_count": 1,
   "metadata": {},
   "outputs": [],
   "source": [
    "from level_1 import level_2"
   ]
  },
  {
   "cell_type": "code",
   "execution_count": 2,
   "metadata": {
    "scrolled": true
   },
   "outputs": [
    {
     "name": "stdout",
     "output_type": "stream",
     "text": [
      "How are you~\n"
     ]
    }
   ],
   "source": [
    "level_2.level_2_script.how_are_you()"
   ]
  },
  {
   "cell_type": "markdown",
   "metadata": {},
   "source": [
    "### But can access neither level_2_script's `how_are_you()`, nor level_1_script's `hello()` just by importing `level_1`"
   ]
  },
  {
   "cell_type": "code",
   "execution_count": 1,
   "metadata": {},
   "outputs": [],
   "source": [
    "import level_1"
   ]
  },
  {
   "cell_type": "raw",
   "metadata": {},
   "source": [
    "level_1.level_2.level_2_script.how_are_you()\n",
    "\n",
    "---------------------------------------------------------------------------\n",
    "AttributeError                            Traceback (most recent call last)\n",
    "<ipython-input-2-ec73891d40b7> in <module>\n",
    "----> 1 level_1.level_2.level_2_script.how_are_you()\n",
    "\n",
    "AttributeError: module 'level_1' has no attribute 'level_2'"
   ]
  },
  {
   "cell_type": "raw",
   "metadata": {},
   "source": [
    "level_1.level_1_script.hello()\n",
    "\n",
    "---------------------------------------------------------------------------\n",
    "AttributeError                            Traceback (most recent call last)\n",
    "<ipython-input-2-a3798a33a136> in <module>\n",
    "----> 1 level_1.level_1_script.hello()\n",
    "\n",
    "AttributeError: module 'level_1' has no attribute 'level_1_script'"
   ]
  },
  {
   "cell_type": "markdown",
   "metadata": {},
   "source": [
    "### After adding `__init__.py` to the folder level_1"
   ]
  },
  {
   "cell_type": "code",
   "execution_count": 1,
   "metadata": {},
   "outputs": [],
   "source": [
    "import level_1"
   ]
  },
  {
   "cell_type": "code",
   "execution_count": 2,
   "metadata": {},
   "outputs": [
    {
     "name": "stdout",
     "output_type": "stream",
     "text": [
      "How are you~\n"
     ]
    }
   ],
   "source": [
    "level_1.level_2.level_2_script.how_are_you()"
   ]
  },
  {
   "cell_type": "code",
   "execution_count": 3,
   "metadata": {},
   "outputs": [
    {
     "name": "stdout",
     "output_type": "stream",
     "text": [
      "Hello~\n"
     ]
    }
   ],
   "source": [
    "level_1.level_1_script.hello()"
   ]
  },
  {
   "cell_type": "code",
   "execution_count": null,
   "metadata": {},
   "outputs": [],
   "source": []
  }
 ],
 "metadata": {
  "kernelspec": {
   "display_name": "Python 3",
   "language": "python",
   "name": "python3"
  },
  "language_info": {
   "codemirror_mode": {
    "name": "ipython",
    "version": 3
   },
   "file_extension": ".py",
   "mimetype": "text/x-python",
   "name": "python",
   "nbconvert_exporter": "python",
   "pygments_lexer": "ipython3",
   "version": "3.7.4"
  }
 },
 "nbformat": 4,
 "nbformat_minor": 2
}
